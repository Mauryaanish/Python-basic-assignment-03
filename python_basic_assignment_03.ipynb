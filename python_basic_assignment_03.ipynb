{
  "nbformat": 4,
  "nbformat_minor": 0,
  "metadata": {
    "colab": {
      "provenance": []
    },
    "kernelspec": {
      "name": "python3",
      "display_name": "Python 3"
    },
    "language_info": {
      "name": "python"
    }
  },
  "cells": [
    {
      "cell_type": "markdown",
      "source": [
        "## 1. Why are functions advantageous to have in your programs? Functions reduce the need for duplicate code. This makes programs shorter, easier to read, and easier to update.\n",
        "\n",
        "Answer:- Why are functions advantageous to have in your programs? Functions reduce the need for duplicate code. This makes programs shorter, easier to read, and easier to update.\n"
      ],
      "metadata": {
        "id": "rk7sgEdlU1id"
      }
    },
    {
      "cell_type": "code",
      "source": [],
      "metadata": {
        "id": "ILdeCiCAVCgB"
      },
      "execution_count": null,
      "outputs": []
    },
    {
      "cell_type": "markdown",
      "source": [
        "## 2. When does the code in a function run: when it&#39;s specified or when it&#39;s called?\n",
        "\n",
        "Answer:-The code in a function executes when the function is called"
      ],
      "metadata": {
        "id": "0JxcMMHoVDrl"
      }
    },
    {
      "cell_type": "code",
      "source": [],
      "metadata": {
        "id": "UK5-w23_VHbA"
      },
      "execution_count": null,
      "outputs": []
    },
    {
      "cell_type": "markdown",
      "source": [
        "## 3.What statement creates a function?\n",
        "\n",
        "Answer:- to create a function, we must first declare it and give it a name, the same way we'd create any variable, and then we follow it by a function definition: var sayHello = function() { }; We could put any code inside that function - one statement, multiple statements - depends on what we want to do."
      ],
      "metadata": {
        "id": "_pIuHVJ-Vlr0"
      }
    },
    {
      "cell_type": "code",
      "source": [],
      "metadata": {
        "id": "3aWt26IQWIsn"
      },
      "execution_count": null,
      "outputs": []
    },
    {
      "cell_type": "markdown",
      "source": [
        "## 4. What is the difference between a function and a function call?\n",
        "\n",
        "Answer:- A function is a block of code that does a particular operation and returns a result. It usually accepts inputs as parameters and returns a result. The parameters are not mandatory."
      ],
      "metadata": {
        "id": "SGjBNMaWWJ1n"
      }
    },
    {
      "cell_type": "code",
      "source": [],
      "metadata": {
        "id": "mQOTsSJ8Wk8m"
      },
      "execution_count": null,
      "outputs": []
    },
    {
      "cell_type": "markdown",
      "source": [
        "## 5. How many global scopes are there in a Python program? How many local scopes?\n",
        "\n",
        "Answer:- Variables that are defined inside a function body have a local scope, and those defined outside have a global scope. This means that local variables can be accessed only inside the function in which they are declared, whereas global variables can be accessed throughout the program body by all functions"
      ],
      "metadata": {
        "id": "PKKvyMCvWmNj"
      }
    },
    {
      "cell_type": "code",
      "source": [],
      "metadata": {
        "id": "2Bc8ItqQXE5K"
      },
      "execution_count": null,
      "outputs": []
    },
    {
      "cell_type": "markdown",
      "source": [
        "## 6. What happens to variables in a local scope when the function call returns?\n",
        "\n",
        "Answer:- When the execution of the function terminates (returns), the local variables are destroyed."
      ],
      "metadata": {
        "id": "6Be5JyGpXGLn"
      }
    },
    {
      "cell_type": "code",
      "source": [],
      "metadata": {
        "id": "-bBWGmAdXUIk"
      },
      "execution_count": null,
      "outputs": []
    },
    {
      "cell_type": "markdown",
      "source": [
        "## 7. What is the concept of a return value? Is it possible to have a return value in an expression?\n",
        "\n",
        "Answer:- A return is a value that a function returns to the calling script or function when it completes its task. A return value can be any one of the four variable types: handle, integer, object, or string."
      ],
      "metadata": {
        "id": "2BKjSpVQXVFL"
      }
    },
    {
      "cell_type": "code",
      "source": [],
      "metadata": {
        "id": "1BgNgEPrXf2W"
      },
      "execution_count": null,
      "outputs": []
    },
    {
      "cell_type": "markdown",
      "source": [
        "## 8. If a function does not have a return statement, what is the return value of a call to that function?\n",
        "\n",
        "Answer:- So, if you don't explicitly use a return value in a return statement, or if you totally omit the return statement, then Python will implicitly return a default value for you. That default return value will always be None ."
      ],
      "metadata": {
        "id": "R579VivT-WD-"
      }
    },
    {
      "cell_type": "code",
      "source": [],
      "metadata": {
        "id": "9pXmZUPq-wWE"
      },
      "execution_count": null,
      "outputs": []
    },
    {
      "cell_type": "markdown",
      "source": [
        "## 9. How do you make a function variable refer to the global variable?\n",
        "\n",
        "Answer:- Normally, when you create a variable inside a function, that variable is local, and can only be used inside that function. To create a global variable inside a function, you can use the global keyword."
      ],
      "metadata": {
        "id": "YdJC5Bpd-xLD"
      }
    },
    {
      "cell_type": "code",
      "source": [],
      "metadata": {
        "id": "RjY1iw4J_Ksl"
      },
      "execution_count": null,
      "outputs": []
    },
    {
      "cell_type": "markdown",
      "source": [
        "## 10. What is the data type of None?\n",
        "\n",
        "Answe:- The None keyword is used to define a null value, or no value at all. None is not the same as 0, False, or an empty string. None is a data type of its own (NoneType) and only None can be None."
      ],
      "metadata": {
        "id": "AhOMdmuE_LpG"
      }
    },
    {
      "cell_type": "code",
      "source": [],
      "metadata": {
        "id": "TocvH9lT_ejJ"
      },
      "execution_count": null,
      "outputs": []
    },
    {
      "cell_type": "markdown",
      "source": [
        "## 11. What does the sentence import areallyourpetsnamederic do?\n",
        "\n",
        "Answer:- What does the import areallyourpetsnamederic statement do? That import statement imports a module named areallyourpetsnamederic."
      ],
      "metadata": {
        "id": "nf2yFoMf_fbq"
      }
    },
    {
      "cell_type": "code",
      "source": [],
      "metadata": {
        "id": "vX-5zmWA_sTo"
      },
      "execution_count": null,
      "outputs": []
    },
    {
      "cell_type": "markdown",
      "source": [
        "## 12. If you had a bacon() feature in a spam module, what would you call it after importing spam?\n",
        "\n",
        "Answer:- If you had a bacon() feature in a spam module, what would you call it after importing spam? This function can be called with spam. bacon()."
      ],
      "metadata": {
        "id": "h_rzg-vn_tuT"
      }
    },
    {
      "cell_type": "code",
      "source": [],
      "metadata": {
        "id": "G6XF3dYv_3-N"
      },
      "execution_count": null,
      "outputs": []
    },
    {
      "cell_type": "markdown",
      "source": [
        "## 13. What can you do to save a programme from crashing if it encounters an error?\n",
        "\n",
        "Answer:- In Python, we use the try and except statements to handle exceptions. Whenever the code breaks down, an exception is thrown without crashing the program. Let's modify the add number program to include the try and except statements. Python would process all code inside the try and except statement"
      ],
      "metadata": {
        "id": "ecBv4Zv-_40Z"
      }
    },
    {
      "cell_type": "code",
      "source": [],
      "metadata": {
        "id": "zXyyn6ORAE8T"
      },
      "execution_count": null,
      "outputs": []
    },
    {
      "cell_type": "markdown",
      "source": [
        "## 14. What is the purpose of the try clause? What is the purpose of the except clause?\n",
        "\n",
        "Answer:- The try block lets you test a block of code for errors. The except block lets you handle the error."
      ],
      "metadata": {
        "id": "J1nuV_LlAFrc"
      }
    },
    {
      "cell_type": "code",
      "source": [],
      "metadata": {
        "id": "LXmQl2COANG5"
      },
      "execution_count": null,
      "outputs": []
    }
  ]
}